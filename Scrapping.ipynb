{
 "cells": [
  {
   "cell_type": "markdown",
   "id": "df395b96-b2f9-4ed5-94d0-876bccbca839",
   "metadata": {},
   "source": [
    "SCRAPPING "
   ]
  },
  {
   "cell_type": "code",
   "execution_count": 22,
   "id": "384e378b",
   "metadata": {},
   "outputs": [],
   "source": [
    "import pandas as pd\n",
    "import requests\n",
    "from bs4 import BeautifulSoup\n",
    "from sqlalchemy import create_engine\n",
    "import pymysql\n",
    "import plotly.express as px\n",
    "import matplotlib.pyplot as plt"
   ]
  },
  {
   "cell_type": "markdown",
   "id": "0f1301c1-89ec-47ff-80bf-21ee40fbdfcb",
   "metadata": {},
   "source": [
    "SCRAP DE CHAQUE LIENS"
   ]
  },
  {
   "cell_type": "code",
   "execution_count": 23,
   "id": "125cd0bc",
   "metadata": {},
   "outputs": [],
   "source": [
    "unique_links = set()\n",
    "links = []\n",
    "def Liens():\n",
    "    for x in range(50):\n",
    "        nb = x + 1\n",
    "        url = 'https://books.toscrape.com/catalogue/page-' + str(nb) + '.html'\n",
    "        page = requests.get(url)\n",
    "        soup = BeautifulSoup(page.content, \"html.parser\")\n",
    "        link_element = soup.find('ol', class_='row')\n",
    "\n",
    "        if len(links) < 1000:\n",
    "            for link in link_element.find_all('a'):\n",
    "                href = link.get('href')\n",
    "                if href not in unique_links:\n",
    "                    unique_links.add(href)\n",
    "                    links.append(href)\n",
    "    return links  "
   ]
  },
  {
   "cell_type": "code",
   "execution_count": 24,
   "id": "839f58d3",
   "metadata": {
    "scrolled": true
   },
   "outputs": [
    {
     "data": {
      "text/html": [
       "<div>\n",
       "<style scoped>\n",
       "    .dataframe tbody tr th:only-of-type {\n",
       "        vertical-align: middle;\n",
       "    }\n",
       "\n",
       "    .dataframe tbody tr th {\n",
       "        vertical-align: top;\n",
       "    }\n",
       "\n",
       "    .dataframe thead th {\n",
       "        text-align: right;\n",
       "    }\n",
       "</style>\n",
       "<table border=\"1\" class=\"dataframe\">\n",
       "  <thead>\n",
       "    <tr style=\"text-align: right;\">\n",
       "      <th></th>\n",
       "      <th>index</th>\n",
       "      <th>liens</th>\n",
       "    </tr>\n",
       "  </thead>\n",
       "  <tbody>\n",
       "    <tr>\n",
       "      <th>0</th>\n",
       "      <td>0</td>\n",
       "      <td>a-light-in-the-attic_1000/index.html</td>\n",
       "    </tr>\n",
       "    <tr>\n",
       "      <th>1</th>\n",
       "      <td>1</td>\n",
       "      <td>tipping-the-velvet_999/index.html</td>\n",
       "    </tr>\n",
       "    <tr>\n",
       "      <th>2</th>\n",
       "      <td>2</td>\n",
       "      <td>soumission_998/index.html</td>\n",
       "    </tr>\n",
       "    <tr>\n",
       "      <th>3</th>\n",
       "      <td>3</td>\n",
       "      <td>sharp-objects_997/index.html</td>\n",
       "    </tr>\n",
       "    <tr>\n",
       "      <th>4</th>\n",
       "      <td>4</td>\n",
       "      <td>sapiens-a-brief-history-of-humankind_996/index...</td>\n",
       "    </tr>\n",
       "    <tr>\n",
       "      <th>...</th>\n",
       "      <td>...</td>\n",
       "      <td>...</td>\n",
       "    </tr>\n",
       "    <tr>\n",
       "      <th>995</th>\n",
       "      <td>995</td>\n",
       "      <td>alice-in-wonderland-alices-adventures-in-wonde...</td>\n",
       "    </tr>\n",
       "    <tr>\n",
       "      <th>996</th>\n",
       "      <td>996</td>\n",
       "      <td>ajin-demi-human-volume-1-ajin-demi-human-1_4/i...</td>\n",
       "    </tr>\n",
       "    <tr>\n",
       "      <th>997</th>\n",
       "      <td>997</td>\n",
       "      <td>a-spys-devotion-the-regency-spies-of-london-1_...</td>\n",
       "    </tr>\n",
       "    <tr>\n",
       "      <th>998</th>\n",
       "      <td>998</td>\n",
       "      <td>1st-to-die-womens-murder-club-1_2/index.html</td>\n",
       "    </tr>\n",
       "    <tr>\n",
       "      <th>999</th>\n",
       "      <td>999</td>\n",
       "      <td>1000-places-to-see-before-you-die_1/index.html</td>\n",
       "    </tr>\n",
       "  </tbody>\n",
       "</table>\n",
       "<p>1000 rows × 2 columns</p>\n",
       "</div>"
      ],
      "text/plain": [
       "     index                                              liens\n",
       "0        0               a-light-in-the-attic_1000/index.html\n",
       "1        1                  tipping-the-velvet_999/index.html\n",
       "2        2                          soumission_998/index.html\n",
       "3        3                       sharp-objects_997/index.html\n",
       "4        4  sapiens-a-brief-history-of-humankind_996/index...\n",
       "..     ...                                                ...\n",
       "995    995  alice-in-wonderland-alices-adventures-in-wonde...\n",
       "996    996  ajin-demi-human-volume-1-ajin-demi-human-1_4/i...\n",
       "997    997  a-spys-devotion-the-regency-spies-of-london-1_...\n",
       "998    998       1st-to-die-womens-murder-club-1_2/index.html\n",
       "999    999     1000-places-to-see-before-you-die_1/index.html\n",
       "\n",
       "[1000 rows x 2 columns]"
      ]
     },
     "execution_count": 24,
     "metadata": {},
     "output_type": "execute_result"
    }
   ],
   "source": [
    "df = pd.DataFrame(Liens())\n",
    "df.columns = ['liens']\n",
    "df = df.reset_index()\n",
    "df"
   ]
  },
  {
   "cell_type": "markdown",
   "id": "0c150329-5930-49ad-ab1d-bb38a5345bbc",
   "metadata": {},
   "source": [
    "SCRAP DES INFORMATIONS CONCERNANT CHAQUE LIVRE À PARTIR DES LIENS SCRAPPER PRECEDEMENT"
   ]
  },
  {
   "cell_type": "code",
   "execution_count": 25,
   "id": "c9d18d8e",
   "metadata": {},
   "outputs": [],
   "source": [
    "def full_scrap():\n",
    "    titre = []\n",
    "    upc = []\n",
    "    ty = []\n",
    "    sans = []\n",
    "    avec = []\n",
    "    tax = []\n",
    "    ava = []\n",
    "    review = []\n",
    "    img = []\n",
    "    categ = []\n",
    "    rating = []\n",
    "    for x in range(len(df)):\n",
    "        url = 'https://books.toscrape.com/catalogue/' + df['liens'].iloc[x]\n",
    "        page = requests.get(url)\n",
    "        soup = BeautifulSoup(page.content, \"html.parser\")\n",
    "        h1_element = soup.find('h1').get_text()\n",
    "        element = soup.find_all('td')\n",
    "        image = soup.find('img')\n",
    "        titre.append(h1_element)\n",
    "        categ.append(soup.find('ul', class_='breadcrumb').find_all('a')[2].get_text())\n",
    "        upc.append(element[0].get_text())\n",
    "        ty.append(element[1].get_text())\n",
    "        sans.append(element[2].get_text())\n",
    "        avec.append(element[3].get_text())\n",
    "        tax.append(element[4].get_text())\n",
    "        ava.append(element[5].get_text())\n",
    "        review.append(element[6].get_text())\n",
    "        img.append(image.get('src'))\n",
    "        rating.append(str(soup.find('div', class_='col-sm-6 product_main').find_all('p')[2])[22:25])\n",
    "    \n",
    "        book = {'titre': titre,\n",
    "        'categorie': categ,\n",
    "        'upc': upc, \n",
    "        'type': ty,\n",
    "       'prix_ht': sans,\n",
    "       'prix_ttc': avec,\n",
    "       'tax': tax,\n",
    "       'stock': ava,\n",
    "       'nb_review': review,\n",
    "       'image': img,\n",
    "        'rating': rating}\n",
    "    \n",
    "    return pd.DataFrame(book)"
   ]
  },
  {
   "cell_type": "code",
   "execution_count": 27,
   "id": "fedadf14",
   "metadata": {
    "scrolled": true
   },
   "outputs": [
    {
     "data": {
      "text/html": [
       "<div>\n",
       "<style scoped>\n",
       "    .dataframe tbody tr th:only-of-type {\n",
       "        vertical-align: middle;\n",
       "    }\n",
       "\n",
       "    .dataframe tbody tr th {\n",
       "        vertical-align: top;\n",
       "    }\n",
       "\n",
       "    .dataframe thead th {\n",
       "        text-align: right;\n",
       "    }\n",
       "</style>\n",
       "<table border=\"1\" class=\"dataframe\">\n",
       "  <thead>\n",
       "    <tr style=\"text-align: right;\">\n",
       "      <th></th>\n",
       "      <th>titre</th>\n",
       "      <th>categorie</th>\n",
       "      <th>upc</th>\n",
       "      <th>type</th>\n",
       "      <th>prix_ht</th>\n",
       "      <th>prix_ttc</th>\n",
       "      <th>tax</th>\n",
       "      <th>stock</th>\n",
       "      <th>nb_review</th>\n",
       "      <th>image</th>\n",
       "      <th>rating</th>\n",
       "      <th>liens</th>\n",
       "    </tr>\n",
       "  </thead>\n",
       "  <tbody>\n",
       "    <tr>\n",
       "      <th>0</th>\n",
       "      <td>A Light in the Attic</td>\n",
       "      <td>Poetry</td>\n",
       "      <td>a897fe39b1053632</td>\n",
       "      <td>Books</td>\n",
       "      <td>£51.77</td>\n",
       "      <td>£51.77</td>\n",
       "      <td>£0.00</td>\n",
       "      <td>In stock (22 available)</td>\n",
       "      <td>0</td>\n",
       "      <td>../../media/cache/fe/72/fe72f0532301ec28892ae7...</td>\n",
       "      <td>Thr</td>\n",
       "      <td>a-light-in-the-attic_1000/index.html</td>\n",
       "    </tr>\n",
       "    <tr>\n",
       "      <th>1</th>\n",
       "      <td>Tipping the Velvet</td>\n",
       "      <td>Historical Fiction</td>\n",
       "      <td>90fa61229261140a</td>\n",
       "      <td>Books</td>\n",
       "      <td>£53.74</td>\n",
       "      <td>£53.74</td>\n",
       "      <td>£0.00</td>\n",
       "      <td>In stock (20 available)</td>\n",
       "      <td>0</td>\n",
       "      <td>../../media/cache/08/e9/08e94f3731d7d6b760dfbf...</td>\n",
       "      <td>One</td>\n",
       "      <td>tipping-the-velvet_999/index.html</td>\n",
       "    </tr>\n",
       "    <tr>\n",
       "      <th>2</th>\n",
       "      <td>Soumission</td>\n",
       "      <td>Fiction</td>\n",
       "      <td>6957f44c3847a760</td>\n",
       "      <td>Books</td>\n",
       "      <td>£50.10</td>\n",
       "      <td>£50.10</td>\n",
       "      <td>£0.00</td>\n",
       "      <td>In stock (20 available)</td>\n",
       "      <td>0</td>\n",
       "      <td>../../media/cache/ee/cf/eecfe998905e455df12064...</td>\n",
       "      <td>One</td>\n",
       "      <td>soumission_998/index.html</td>\n",
       "    </tr>\n",
       "    <tr>\n",
       "      <th>3</th>\n",
       "      <td>Sharp Objects</td>\n",
       "      <td>Mystery</td>\n",
       "      <td>e00eb4fd7b871a48</td>\n",
       "      <td>Books</td>\n",
       "      <td>£47.82</td>\n",
       "      <td>£47.82</td>\n",
       "      <td>£0.00</td>\n",
       "      <td>In stock (20 available)</td>\n",
       "      <td>0</td>\n",
       "      <td>../../media/cache/c0/59/c05972805aa7201171b8fc...</td>\n",
       "      <td>Fou</td>\n",
       "      <td>sharp-objects_997/index.html</td>\n",
       "    </tr>\n",
       "    <tr>\n",
       "      <th>4</th>\n",
       "      <td>Sapiens: A Brief History of Humankind</td>\n",
       "      <td>History</td>\n",
       "      <td>4165285e1663650f</td>\n",
       "      <td>Books</td>\n",
       "      <td>£54.23</td>\n",
       "      <td>£54.23</td>\n",
       "      <td>£0.00</td>\n",
       "      <td>In stock (20 available)</td>\n",
       "      <td>0</td>\n",
       "      <td>../../media/cache/ce/5f/ce5f052c65cc963cf4422b...</td>\n",
       "      <td>Fiv</td>\n",
       "      <td>sapiens-a-brief-history-of-humankind_996/index...</td>\n",
       "    </tr>\n",
       "    <tr>\n",
       "      <th>...</th>\n",
       "      <td>...</td>\n",
       "      <td>...</td>\n",
       "      <td>...</td>\n",
       "      <td>...</td>\n",
       "      <td>...</td>\n",
       "      <td>...</td>\n",
       "      <td>...</td>\n",
       "      <td>...</td>\n",
       "      <td>...</td>\n",
       "      <td>...</td>\n",
       "      <td>...</td>\n",
       "      <td>...</td>\n",
       "    </tr>\n",
       "    <tr>\n",
       "      <th>995</th>\n",
       "      <td>Alice in Wonderland (Alice's Adventures in Won...</td>\n",
       "      <td>Classics</td>\n",
       "      <td>cd2a2a70dd5d176d</td>\n",
       "      <td>Books</td>\n",
       "      <td>£55.53</td>\n",
       "      <td>£55.53</td>\n",
       "      <td>£0.00</td>\n",
       "      <td>In stock (1 available)</td>\n",
       "      <td>0</td>\n",
       "      <td>../../media/cache/99/df/99df494c230127c3d5ff53...</td>\n",
       "      <td>One</td>\n",
       "      <td>alice-in-wonderland-alices-adventures-in-wonde...</td>\n",
       "    </tr>\n",
       "    <tr>\n",
       "      <th>996</th>\n",
       "      <td>Ajin: Demi-Human, Volume 1 (Ajin: Demi-Human #1)</td>\n",
       "      <td>Sequential Art</td>\n",
       "      <td>bfd5e1701c862ac3</td>\n",
       "      <td>Books</td>\n",
       "      <td>£57.06</td>\n",
       "      <td>£57.06</td>\n",
       "      <td>£0.00</td>\n",
       "      <td>In stock (1 available)</td>\n",
       "      <td>0</td>\n",
       "      <td>../../media/cache/30/98/309814b6eeba469f4c7411...</td>\n",
       "      <td>Fou</td>\n",
       "      <td>ajin-demi-human-volume-1-ajin-demi-human-1_4/i...</td>\n",
       "    </tr>\n",
       "    <tr>\n",
       "      <th>997</th>\n",
       "      <td>A Spy's Devotion (The Regency Spies of London #1)</td>\n",
       "      <td>Historical Fiction</td>\n",
       "      <td>19fec36a1dfb4c16</td>\n",
       "      <td>Books</td>\n",
       "      <td>£16.97</td>\n",
       "      <td>£16.97</td>\n",
       "      <td>£0.00</td>\n",
       "      <td>In stock (1 available)</td>\n",
       "      <td>0</td>\n",
       "      <td>../../media/cache/f9/6b/f96b60a7614c4e3e868b82...</td>\n",
       "      <td>Fiv</td>\n",
       "      <td>a-spys-devotion-the-regency-spies-of-london-1_...</td>\n",
       "    </tr>\n",
       "    <tr>\n",
       "      <th>998</th>\n",
       "      <td>1st to Die (Women's Murder Club #1)</td>\n",
       "      <td>Mystery</td>\n",
       "      <td>f684a82adc49f011</td>\n",
       "      <td>Books</td>\n",
       "      <td>£53.98</td>\n",
       "      <td>£53.98</td>\n",
       "      <td>£0.00</td>\n",
       "      <td>In stock (1 available)</td>\n",
       "      <td>0</td>\n",
       "      <td>../../media/cache/f6/8e/f68e6ae2f9da04fccbde84...</td>\n",
       "      <td>One</td>\n",
       "      <td>1st-to-die-womens-murder-club-1_2/index.html</td>\n",
       "    </tr>\n",
       "    <tr>\n",
       "      <th>999</th>\n",
       "      <td>1,000 Places to See Before You Die</td>\n",
       "      <td>Travel</td>\n",
       "      <td>228ba5e7577e1d49</td>\n",
       "      <td>Books</td>\n",
       "      <td>£26.08</td>\n",
       "      <td>£26.08</td>\n",
       "      <td>£0.00</td>\n",
       "      <td>In stock (1 available)</td>\n",
       "      <td>0</td>\n",
       "      <td>../../media/cache/9e/10/9e106f81f65b293e488718...</td>\n",
       "      <td>Fiv</td>\n",
       "      <td>1000-places-to-see-before-you-die_1/index.html</td>\n",
       "    </tr>\n",
       "  </tbody>\n",
       "</table>\n",
       "<p>1000 rows × 12 columns</p>\n",
       "</div>"
      ],
      "text/plain": [
       "                                                 titre           categorie  \\\n",
       "0                                 A Light in the Attic              Poetry   \n",
       "1                                   Tipping the Velvet  Historical Fiction   \n",
       "2                                           Soumission             Fiction   \n",
       "3                                        Sharp Objects             Mystery   \n",
       "4                Sapiens: A Brief History of Humankind             History   \n",
       "..                                                 ...                 ...   \n",
       "995  Alice in Wonderland (Alice's Adventures in Won...            Classics   \n",
       "996   Ajin: Demi-Human, Volume 1 (Ajin: Demi-Human #1)      Sequential Art   \n",
       "997  A Spy's Devotion (The Regency Spies of London #1)  Historical Fiction   \n",
       "998                1st to Die (Women's Murder Club #1)             Mystery   \n",
       "999                 1,000 Places to See Before You Die              Travel   \n",
       "\n",
       "                  upc   type prix_ht prix_ttc    tax                    stock  \\\n",
       "0    a897fe39b1053632  Books  £51.77   £51.77  £0.00  In stock (22 available)   \n",
       "1    90fa61229261140a  Books  £53.74   £53.74  £0.00  In stock (20 available)   \n",
       "2    6957f44c3847a760  Books  £50.10   £50.10  £0.00  In stock (20 available)   \n",
       "3    e00eb4fd7b871a48  Books  £47.82   £47.82  £0.00  In stock (20 available)   \n",
       "4    4165285e1663650f  Books  £54.23   £54.23  £0.00  In stock (20 available)   \n",
       "..                ...    ...     ...      ...    ...                      ...   \n",
       "995  cd2a2a70dd5d176d  Books  £55.53   £55.53  £0.00   In stock (1 available)   \n",
       "996  bfd5e1701c862ac3  Books  £57.06   £57.06  £0.00   In stock (1 available)   \n",
       "997  19fec36a1dfb4c16  Books  £16.97   £16.97  £0.00   In stock (1 available)   \n",
       "998  f684a82adc49f011  Books  £53.98   £53.98  £0.00   In stock (1 available)   \n",
       "999  228ba5e7577e1d49  Books  £26.08   £26.08  £0.00   In stock (1 available)   \n",
       "\n",
       "    nb_review                                              image rating  \\\n",
       "0           0  ../../media/cache/fe/72/fe72f0532301ec28892ae7...    Thr   \n",
       "1           0  ../../media/cache/08/e9/08e94f3731d7d6b760dfbf...    One   \n",
       "2           0  ../../media/cache/ee/cf/eecfe998905e455df12064...    One   \n",
       "3           0  ../../media/cache/c0/59/c05972805aa7201171b8fc...    Fou   \n",
       "4           0  ../../media/cache/ce/5f/ce5f052c65cc963cf4422b...    Fiv   \n",
       "..        ...                                                ...    ...   \n",
       "995         0  ../../media/cache/99/df/99df494c230127c3d5ff53...    One   \n",
       "996         0  ../../media/cache/30/98/309814b6eeba469f4c7411...    Fou   \n",
       "997         0  ../../media/cache/f9/6b/f96b60a7614c4e3e868b82...    Fiv   \n",
       "998         0  ../../media/cache/f6/8e/f68e6ae2f9da04fccbde84...    One   \n",
       "999         0  ../../media/cache/9e/10/9e106f81f65b293e488718...    Fiv   \n",
       "\n",
       "                                                 liens  \n",
       "0                 a-light-in-the-attic_1000/index.html  \n",
       "1                    tipping-the-velvet_999/index.html  \n",
       "2                            soumission_998/index.html  \n",
       "3                         sharp-objects_997/index.html  \n",
       "4    sapiens-a-brief-history-of-humankind_996/index...  \n",
       "..                                                 ...  \n",
       "995  alice-in-wonderland-alices-adventures-in-wonde...  \n",
       "996  ajin-demi-human-volume-1-ajin-demi-human-1_4/i...  \n",
       "997  a-spys-devotion-the-regency-spies-of-london-1_...  \n",
       "998       1st-to-die-womens-murder-club-1_2/index.html  \n",
       "999     1000-places-to-see-before-you-die_1/index.html  \n",
       "\n",
       "[1000 rows x 12 columns]"
      ]
     },
     "execution_count": 27,
     "metadata": {},
     "output_type": "execute_result"
    }
   ],
   "source": [
    "df_full = full_scrap()\n",
    "df_full = df_full.reset_index()\n",
    "\n",
    "df_final = pd.merge(df_full, df, on='index', how = 'outer').drop('index', axis=1)\n",
    "df_final"
   ]
  },
  {
   "cell_type": "code",
   "execution_count": 31,
   "id": "56e97b13",
   "metadata": {},
   "outputs": [
    {
     "data": {
      "text/plain": [
       "0      ../../media/cache/fe/72/fe72f0532301ec28892ae7...\n",
       "1      ../../media/cache/08/e9/08e94f3731d7d6b760dfbf...\n",
       "2      ../../media/cache/ee/cf/eecfe998905e455df12064...\n",
       "3      ../../media/cache/c0/59/c05972805aa7201171b8fc...\n",
       "4      ../../media/cache/ce/5f/ce5f052c65cc963cf4422b...\n",
       "                             ...                        \n",
       "995    ../../media/cache/99/df/99df494c230127c3d5ff53...\n",
       "996    ../../media/cache/30/98/309814b6eeba469f4c7411...\n",
       "997    ../../media/cache/f9/6b/f96b60a7614c4e3e868b82...\n",
       "998    ../../media/cache/f6/8e/f68e6ae2f9da04fccbde84...\n",
       "999    ../../media/cache/9e/10/9e106f81f65b293e488718...\n",
       "Name: image, Length: 1000, dtype: object"
      ]
     },
     "execution_count": 31,
     "metadata": {},
     "output_type": "execute_result"
    }
   ],
   "source": [
    "df_final['image']"
   ]
  },
  {
   "cell_type": "code",
   "execution_count": null,
   "id": "42f94b34-0a76-470b-9b15-821c171df9cb",
   "metadata": {
    "scrolled": true
   },
   "outputs": [
    {
     "name": "stdout",
     "output_type": "stream",
     "text": [
      "<class 'pandas.core.frame.DataFrame'>\n",
      "RangeIndex: 1000 entries, 0 to 999\n",
      "Data columns (total 12 columns):\n",
      " #   Column     Non-Null Count  Dtype  \n",
      "---  ------     --------------  -----  \n",
      " 0   titre      1000 non-null   object \n",
      " 1   categorie  1000 non-null   object \n",
      " 2   upc        1000 non-null   object \n",
      " 3   type       1000 non-null   object \n",
      " 4   prix_ht    1000 non-null   float64\n",
      " 5   prix_ttc   1000 non-null   float64\n",
      " 6   tax        1000 non-null   float64\n",
      " 7   stock      1000 non-null   float64\n",
      " 8   nb_review  1000 non-null   int64  \n",
      " 9   image      1000 non-null   object \n",
      " 10  rating     1000 non-null   int64  \n",
      " 11  liens      1000 non-null   object \n",
      "dtypes: float64(4), int64(2), object(6)\n",
      "memory usage: 93.9+ KB\n"
     ]
    },
    {
     "name": "stderr",
     "output_type": "stream",
     "text": [
      "C:\\Users\\ryanh\\AppData\\Local\\Temp\\ipykernel_3640\\3088852193.py:13: FutureWarning: Downcasting behavior in `replace` is deprecated and will be removed in a future version. To retain the old behavior, explicitly call `result.infer_objects(copy=False)`. To opt-in to the future behavior, set `pd.set_option('future.no_silent_downcasting', True)`\n",
      "  df_final['rating'] = df_final['rating'].replace({'One': 1, 'Two': 2, 'Thr': 3, 'Fou': 4, 'Fiv': 5}).astype(int)\n"
     ]
    }
   ],
   "source": [
    "df_final['prix_ht'] = df_final['prix_ht'].str.slice(1)\n",
    "df_final['prix_ht'] = df_final['prix_ht'].astype(float)\n",
    "\n",
    "df_final['prix_ttc'] = df_final['prix_ttc'].str.slice(1)\n",
    "df_final['prix_ttc'] = df_final[['prix_ttc']].astype(float)\n",
    "\n",
    "df_final['tax'] = df_final['tax'].str.slice(1)\n",
    "df_final['tax'] = df_final['tax'].astype(float)\n",
    "\n",
    "df_final['stock'] = df_final['stock'].str[10:12]\n",
    "df_final['stock'] = df_final['stock'].astype(float)\n",
    "\n",
    "df_final['rating'] = df_final['rating'].replace({'One': 1, 'Two': 2, 'Thr': 3, 'Fou': 4, 'Fiv': 5}).astype(int)\n",
    "\n",
    "df_final['nb_review'] = df_final['nb_review'].astype(int)\n",
    "\n",
    "df_final.info()"
   ]
  },
  {
   "cell_type": "markdown",
   "id": "668997f9-ed71-4b1e-82ec-72c01b75707c",
   "metadata": {},
   "source": [
    "STOCKAGE VERS BASE DE DONNÉE SQL"
   ]
  },
  {
   "cell_type": "code",
   "execution_count": null,
   "id": "f940f731",
   "metadata": {},
   "outputs": [],
   "source": [
    "host = 'localhost' \n",
    "user = 'root' \n",
    "password = 'root'  \n",
    "database = 'book'\n",
    "\n",
    "conn = pymysql.connect(host=host, user=user, password=password, database=database)\n",
    "engine = create_engine(f'mysql+pymysql://{user}:{password}@{host}/{database}')"
   ]
  },
  {
   "cell_type": "code",
   "execution_count": null,
   "id": "b18d7bd5-8cf2-4d3f-b269-74554eb5af4f",
   "metadata": {},
   "outputs": [
    {
     "data": {
      "text/plain": [
       "1000"
      ]
     },
     "execution_count": 13,
     "metadata": {},
     "output_type": "execute_result"
    }
   ],
   "source": [
    "df_final.to_sql('livre', con=engine, if_exists='replace', index=False)"
   ]
  },
  {
   "cell_type": "markdown",
   "id": "a36df0d7-bb4a-4cfb-842d-a4efb772355e",
   "metadata": {},
   "source": [
    "Les 10 produits les plus chers"
   ]
  },
  {
   "cell_type": "code",
   "execution_count": null,
   "id": "28851624-4c6e-4225-8132-c84c8b6d88d7",
   "metadata": {
    "scrolled": true
   },
   "outputs": [
    {
     "name": "stderr",
     "output_type": "stream",
     "text": [
      "C:\\Users\\ryanh\\AppData\\Local\\Temp\\ipykernel_3640\\1675016399.py:8: UserWarning: pandas only supports SQLAlchemy connectable (engine/connection) or database string URI or sqlite3 DBAPI2 connection. Other DBAPI2 objects are not tested. Please consider using SQLAlchemy.\n",
      "  df_chers = pd.read_sql(query_chers, conn)\n"
     ]
    },
    {
     "data": {
      "text/plain": [
       "<Axes: xlabel='titre'>"
      ]
     },
     "execution_count": 14,
     "metadata": {},
     "output_type": "execute_result"
    },
    {
     "data": {
      "image/png": "[encoded data removed]",
      "text/plain": [
       "<Figure size 640x480 with 1 Axes>"
      ]
     },
     "metadata": {},
     "output_type": "display_data"
    }
   ],
   "source": [
    "query_chers = \"\"\"\n",
    "SELECT titre, prix_ttc\n",
    "FROM livre\n",
    "ORDER BY prix_ttc DESC\n",
    "LIMIT 10\n",
    "\"\"\"\n",
    "\n",
    "df_chers = pd.read_sql(query_chers, conn)\n",
    "df_chers.plot.bar(y='prix_ttc', x='titre')"
   ]
  },
  {
   "cell_type": "markdown",
   "id": "78631497-ab65-4102-87be-048fbf614e0f",
   "metadata": {},
   "source": [
    "Les 10 produits les moins chers"
   ]
  },
  {
   "cell_type": "code",
   "execution_count": null,
   "id": "a6abfe08-b764-4255-9943-45db14b7d268",
   "metadata": {
    "scrolled": true
   },
   "outputs": [
    {
     "name": "stderr",
     "output_type": "stream",
     "text": [
      "C:\\Users\\ryanh\\AppData\\Local\\Temp\\ipykernel_3640\\3235749918.py:8: UserWarning: pandas only supports SQLAlchemy connectable (engine/connection) or database string URI or sqlite3 DBAPI2 connection. Other DBAPI2 objects are not tested. Please consider using SQLAlchemy.\n",
      "  df_moins = pd.read_sql(query_moins, conn)\n"
     ]
    },
    {
     "data": {
      "text/plain": [
       "<Axes: xlabel='titre'>"
      ]
     },
     "execution_count": 15,
     "metadata": {},
     "output_type": "execute_result"
    },
    {
     "data": {
      "image/png": "[encoded data removed]",
      "text/plain": [
       "<Figure size 640x480 with 1 Axes>"
      ]
     },
     "metadata": {},
     "output_type": "display_data"
    }
   ],
   "source": [
    "query_moins = \"\"\"\n",
    "SELECT titre, prix_ttc\n",
    "FROM livre\n",
    "ORDER BY prix_ttc ASC\n",
    "LIMIT 10\n",
    "\"\"\"\n",
    "\n",
    "df_moins = pd.read_sql(query_moins, conn)\n",
    "df_moins.plot.bar(y='prix_ttc', x='titre')"
   ]
  },
  {
   "cell_type": "markdown",
   "id": "82f3cbd3-f8be-4ada-aa74-b1375f0b79c3",
   "metadata": {},
   "source": [
    "Les 5 catégories ayant le plus de produits en stocks"
   ]
  },
  {
   "cell_type": "code",
   "execution_count": null,
   "id": "d16be6b3-c64d-4bc9-83ba-332ced97026e",
   "metadata": {},
   "outputs": [
    {
     "name": "stderr",
     "output_type": "stream",
     "text": [
      "C:\\Users\\ryanh\\AppData\\Local\\Temp\\ipykernel_3640\\4012994631.py:9: UserWarning: pandas only supports SQLAlchemy connectable (engine/connection) or database string URI or sqlite3 DBAPI2 connection. Other DBAPI2 objects are not tested. Please consider using SQLAlchemy.\n",
      "  df_stock = pd.read_sql(query_stock, conn)\n"
     ]
    },
    {
     "data": {
      "text/plain": [
       "<Axes: xlabel='categorie'>"
      ]
     },
     "execution_count": 16,
     "metadata": {},
     "output_type": "execute_result"
    },
    {
     "data": {
      "image/png": "[encoded data removed]",
      "text/plain": [
       "<Figure size 640x480 with 1 Axes>"
      ]
     },
     "metadata": {},
     "output_type": "display_data"
    }
   ],
   "source": [
    "query_stock = \"\"\"\n",
    "SELECT \tSUM(stock) AS prod_stock, categorie\n",
    "FROM livre \n",
    "GROUP BY categorie\n",
    "ORDER BY prod_stock desc\n",
    "LIMIT 5\n",
    "\"\"\"\n",
    "\n",
    "df_stock = pd.read_sql(query_stock, conn)\n",
    "df_stock.plot.bar(y='prod_stock', x='categorie')"
   ]
  },
  {
   "cell_type": "markdown",
   "id": "1f9c0f56-0187-4205-8b2d-abfd79c1707f",
   "metadata": {},
   "source": [
    "Les trois catégories ayant les produits les plus chers"
   ]
  },
  {
   "cell_type": "code",
   "execution_count": null,
   "id": "e598cae0-1c97-4247-9287-f34357715256",
   "metadata": {
    "scrolled": true
   },
   "outputs": [
    {
     "name": "stderr",
     "output_type": "stream",
     "text": [
      "C:\\Users\\ryanh\\AppData\\Local\\Temp\\ipykernel_3640\\3275357715.py:8: UserWarning: pandas only supports SQLAlchemy connectable (engine/connection) or database string URI or sqlite3 DBAPI2 connection. Other DBAPI2 objects are not tested. Please consider using SQLAlchemy.\n",
      "  df_categ = pd.read_sql(query_categ, conn)\n"
     ]
    },
    {
     "data": {
      "text/plain": [
       "<Axes: xlabel='titre'>"
      ]
     },
     "execution_count": 17,
     "metadata": {},
     "output_type": "execute_result"
    },
    {
     "data": {
      "image/png": "[encoded data removed]",
      "text/plain": [
       "<Figure size 640x480 with 1 Axes>"
      ]
     },
     "metadata": {},
     "output_type": "display_data"
    }
   ],
   "source": [
    "query_categ = \"\"\"\n",
    "SELECT titre, prix_ttc, categorie\n",
    "FROM livre\n",
    "ORDER BY prix_ttc DESC\n",
    "LIMIT 3\n",
    "\"\"\"\n",
    "\n",
    "df_categ = pd.read_sql(query_categ, conn)\n",
    "df_categ.plot.bar(y='prix_ttc', x='titre')"
   ]
  },
  {
   "cell_type": "markdown",
   "id": "75d4213c-e264-4b58-81f6-9f5798e86988",
   "metadata": {},
   "source": [
    "Les différentes catégories et le nombre de livres dans chacune"
   ]
  },
  {
   "cell_type": "code",
   "execution_count": null,
   "id": "374eb5c5-eec0-4f7d-87ad-6980cfc1e938",
   "metadata": {
    "scrolled": true
   },
   "outputs": [
    {
     "name": "stderr",
     "output_type": "stream",
     "text": [
      "C:\\Users\\ryanh\\AppData\\Local\\Temp\\ipykernel_3640\\645236739.py:8: UserWarning: pandas only supports SQLAlchemy connectable (engine/connection) or database string URI or sqlite3 DBAPI2 connection. Other DBAPI2 objects are not tested. Please consider using SQLAlchemy.\n",
      "  df_nbtitre = pd.read_sql(query_nbtitre, conn)\n"
     ]
    },
    {
     "data": {
      "text/html": [
       "<div>\n",
       "<style scoped>\n",
       "    .dataframe tbody tr th:only-of-type {\n",
       "        vertical-align: middle;\n",
       "    }\n",
       "\n",
       "    .dataframe tbody tr th {\n",
       "        vertical-align: top;\n",
       "    }\n",
       "\n",
       "    .dataframe thead th {\n",
       "        text-align: right;\n",
       "    }\n",
       "</style>\n",
       "<table border=\"1\" class=\"dataframe\">\n",
       "  <thead>\n",
       "    <tr style=\"text-align: right;\">\n",
       "      <th></th>\n",
       "      <th>nb_livre</th>\n",
       "      <th>categorie</th>\n",
       "    </tr>\n",
       "  </thead>\n",
       "  <tbody>\n",
       "    <tr>\n",
       "      <th>0</th>\n",
       "      <td>152</td>\n",
       "      <td>Default</td>\n",
       "    </tr>\n",
       "    <tr>\n",
       "      <th>1</th>\n",
       "      <td>110</td>\n",
       "      <td>Nonfiction</td>\n",
       "    </tr>\n",
       "    <tr>\n",
       "      <th>2</th>\n",
       "      <td>75</td>\n",
       "      <td>Sequential Art</td>\n",
       "    </tr>\n",
       "    <tr>\n",
       "      <th>3</th>\n",
       "      <td>67</td>\n",
       "      <td>Add a comment</td>\n",
       "    </tr>\n",
       "    <tr>\n",
       "      <th>4</th>\n",
       "      <td>65</td>\n",
       "      <td>Fiction</td>\n",
       "    </tr>\n",
       "    <tr>\n",
       "      <th>5</th>\n",
       "      <td>54</td>\n",
       "      <td>Young Adult</td>\n",
       "    </tr>\n",
       "    <tr>\n",
       "      <th>6</th>\n",
       "      <td>48</td>\n",
       "      <td>Fantasy</td>\n",
       "    </tr>\n",
       "    <tr>\n",
       "      <th>7</th>\n",
       "      <td>35</td>\n",
       "      <td>Romance</td>\n",
       "    </tr>\n",
       "    <tr>\n",
       "      <th>8</th>\n",
       "      <td>32</td>\n",
       "      <td>Mystery</td>\n",
       "    </tr>\n",
       "    <tr>\n",
       "      <th>9</th>\n",
       "      <td>30</td>\n",
       "      <td>Food and Drink</td>\n",
       "    </tr>\n",
       "    <tr>\n",
       "      <th>10</th>\n",
       "      <td>29</td>\n",
       "      <td>Childrens</td>\n",
       "    </tr>\n",
       "    <tr>\n",
       "      <th>11</th>\n",
       "      <td>26</td>\n",
       "      <td>Historical Fiction</td>\n",
       "    </tr>\n",
       "    <tr>\n",
       "      <th>12</th>\n",
       "      <td>19</td>\n",
       "      <td>Poetry</td>\n",
       "    </tr>\n",
       "    <tr>\n",
       "      <th>13</th>\n",
       "      <td>19</td>\n",
       "      <td>Classics</td>\n",
       "    </tr>\n",
       "    <tr>\n",
       "      <th>14</th>\n",
       "      <td>18</td>\n",
       "      <td>History</td>\n",
       "    </tr>\n",
       "    <tr>\n",
       "      <th>15</th>\n",
       "      <td>17</td>\n",
       "      <td>Horror</td>\n",
       "    </tr>\n",
       "    <tr>\n",
       "      <th>16</th>\n",
       "      <td>17</td>\n",
       "      <td>Womens Fiction</td>\n",
       "    </tr>\n",
       "    <tr>\n",
       "      <th>17</th>\n",
       "      <td>16</td>\n",
       "      <td>Science Fiction</td>\n",
       "    </tr>\n",
       "    <tr>\n",
       "      <th>18</th>\n",
       "      <td>14</td>\n",
       "      <td>Science</td>\n",
       "    </tr>\n",
       "    <tr>\n",
       "      <th>19</th>\n",
       "      <td>13</td>\n",
       "      <td>Music</td>\n",
       "    </tr>\n",
       "    <tr>\n",
       "      <th>20</th>\n",
       "      <td>12</td>\n",
       "      <td>Business</td>\n",
       "    </tr>\n",
       "    <tr>\n",
       "      <th>21</th>\n",
       "      <td>11</td>\n",
       "      <td>Travel</td>\n",
       "    </tr>\n",
       "    <tr>\n",
       "      <th>22</th>\n",
       "      <td>11</td>\n",
       "      <td>Thriller</td>\n",
       "    </tr>\n",
       "    <tr>\n",
       "      <th>23</th>\n",
       "      <td>11</td>\n",
       "      <td>Philosophy</td>\n",
       "    </tr>\n",
       "    <tr>\n",
       "      <th>24</th>\n",
       "      <td>10</td>\n",
       "      <td>Humor</td>\n",
       "    </tr>\n",
       "    <tr>\n",
       "      <th>25</th>\n",
       "      <td>9</td>\n",
       "      <td>Autobiography</td>\n",
       "    </tr>\n",
       "    <tr>\n",
       "      <th>26</th>\n",
       "      <td>8</td>\n",
       "      <td>Art</td>\n",
       "    </tr>\n",
       "    <tr>\n",
       "      <th>27</th>\n",
       "      <td>7</td>\n",
       "      <td>Religion</td>\n",
       "    </tr>\n",
       "    <tr>\n",
       "      <th>28</th>\n",
       "      <td>7</td>\n",
       "      <td>Psychology</td>\n",
       "    </tr>\n",
       "    <tr>\n",
       "      <th>29</th>\n",
       "      <td>6</td>\n",
       "      <td>New Adult</td>\n",
       "    </tr>\n",
       "    <tr>\n",
       "      <th>30</th>\n",
       "      <td>6</td>\n",
       "      <td>Christian Fiction</td>\n",
       "    </tr>\n",
       "    <tr>\n",
       "      <th>31</th>\n",
       "      <td>6</td>\n",
       "      <td>Spirituality</td>\n",
       "    </tr>\n",
       "    <tr>\n",
       "      <th>32</th>\n",
       "      <td>5</td>\n",
       "      <td>Biography</td>\n",
       "    </tr>\n",
       "    <tr>\n",
       "      <th>33</th>\n",
       "      <td>5</td>\n",
       "      <td>Self Help</td>\n",
       "    </tr>\n",
       "    <tr>\n",
       "      <th>34</th>\n",
       "      <td>5</td>\n",
       "      <td>Sports and Games</td>\n",
       "    </tr>\n",
       "    <tr>\n",
       "      <th>35</th>\n",
       "      <td>4</td>\n",
       "      <td>Health</td>\n",
       "    </tr>\n",
       "    <tr>\n",
       "      <th>36</th>\n",
       "      <td>3</td>\n",
       "      <td>Contemporary</td>\n",
       "    </tr>\n",
       "    <tr>\n",
       "      <th>37</th>\n",
       "      <td>3</td>\n",
       "      <td>Politics</td>\n",
       "    </tr>\n",
       "    <tr>\n",
       "      <th>38</th>\n",
       "      <td>3</td>\n",
       "      <td>Christian</td>\n",
       "    </tr>\n",
       "    <tr>\n",
       "      <th>39</th>\n",
       "      <td>2</td>\n",
       "      <td>Historical</td>\n",
       "    </tr>\n",
       "    <tr>\n",
       "      <th>40</th>\n",
       "      <td>1</td>\n",
       "      <td>Erotica</td>\n",
       "    </tr>\n",
       "    <tr>\n",
       "      <th>41</th>\n",
       "      <td>1</td>\n",
       "      <td>Cultural</td>\n",
       "    </tr>\n",
       "    <tr>\n",
       "      <th>42</th>\n",
       "      <td>1</td>\n",
       "      <td>Novels</td>\n",
       "    </tr>\n",
       "    <tr>\n",
       "      <th>43</th>\n",
       "      <td>1</td>\n",
       "      <td>Short Stories</td>\n",
       "    </tr>\n",
       "    <tr>\n",
       "      <th>44</th>\n",
       "      <td>1</td>\n",
       "      <td>Suspense</td>\n",
       "    </tr>\n",
       "    <tr>\n",
       "      <th>45</th>\n",
       "      <td>1</td>\n",
       "      <td>Crime</td>\n",
       "    </tr>\n",
       "    <tr>\n",
       "      <th>46</th>\n",
       "      <td>1</td>\n",
       "      <td>Academic</td>\n",
       "    </tr>\n",
       "    <tr>\n",
       "      <th>47</th>\n",
       "      <td>1</td>\n",
       "      <td>Adult Fiction</td>\n",
       "    </tr>\n",
       "    <tr>\n",
       "      <th>48</th>\n",
       "      <td>1</td>\n",
       "      <td>Parenting</td>\n",
       "    </tr>\n",
       "    <tr>\n",
       "      <th>49</th>\n",
       "      <td>1</td>\n",
       "      <td>Paranormal</td>\n",
       "    </tr>\n",
       "  </tbody>\n",
       "</table>\n",
       "</div>"
      ],
      "text/plain": [
       "    nb_livre           categorie\n",
       "0        152             Default\n",
       "1        110          Nonfiction\n",
       "2         75      Sequential Art\n",
       "3         67       Add a comment\n",
       "4         65             Fiction\n",
       "5         54         Young Adult\n",
       "6         48             Fantasy\n",
       "7         35             Romance\n",
       "8         32             Mystery\n",
       "9         30      Food and Drink\n",
       "10        29           Childrens\n",
       "11        26  Historical Fiction\n",
       "12        19              Poetry\n",
       "13        19            Classics\n",
       "14        18             History\n",
       "15        17              Horror\n",
       "16        17      Womens Fiction\n",
       "17        16     Science Fiction\n",
       "18        14             Science\n",
       "19        13               Music\n",
       "20        12            Business\n",
       "21        11              Travel\n",
       "22        11            Thriller\n",
       "23        11          Philosophy\n",
       "24        10               Humor\n",
       "25         9       Autobiography\n",
       "26         8                 Art\n",
       "27         7            Religion\n",
       "28         7          Psychology\n",
       "29         6           New Adult\n",
       "30         6   Christian Fiction\n",
       "31         6        Spirituality\n",
       "32         5           Biography\n",
       "33         5           Self Help\n",
       "34         5    Sports and Games\n",
       "35         4              Health\n",
       "36         3        Contemporary\n",
       "37         3            Politics\n",
       "38         3           Christian\n",
       "39         2          Historical\n",
       "40         1             Erotica\n",
       "41         1            Cultural\n",
       "42         1              Novels\n",
       "43         1       Short Stories\n",
       "44         1            Suspense\n",
       "45         1               Crime\n",
       "46         1            Academic\n",
       "47         1       Adult Fiction\n",
       "48         1           Parenting\n",
       "49         1          Paranormal"
      ]
     },
     "execution_count": 18,
     "metadata": {},
     "output_type": "execute_result"
    }
   ],
   "source": [
    "query_nbtitre = \"\"\"\n",
    "SELECT COUNT(titre) nb_livre, categorie\n",
    "FROM livre\n",
    "GROUP BY categorie\n",
    "ORDER BY nb_livre DESC\n",
    "\"\"\"\n",
    "\n",
    "df_nbtitre = pd.read_sql(query_nbtitre, conn)\n",
    "df_nbtitre"
   ]
  },
  {
   "cell_type": "markdown",
   "id": "e9530805-1890-4bdb-aedc-78d9602bc763",
   "metadata": {},
   "source": [
    "Le nombre de livre par note (étoiles)"
   ]
  },
  {
   "cell_type": "code",
   "execution_count": null,
   "id": "3dac5edc-a8eb-462b-ad26-017e731c6af1",
   "metadata": {},
   "outputs": [
    {
     "name": "stderr",
     "output_type": "stream",
     "text": [
      "C:\\Users\\ryanh\\AppData\\Local\\Temp\\ipykernel_3640\\648329762.py:8: UserWarning: pandas only supports SQLAlchemy connectable (engine/connection) or database string URI or sqlite3 DBAPI2 connection. Other DBAPI2 objects are not tested. Please consider using SQLAlchemy.\n",
      "  df_rate = pd.read_sql(query_rate, conn)\n"
     ]
    },
    {
     "data": {
      "application/vnd.plotly.v1+json": {
       "config": {
        "plotlyServerURL": "https://plot.ly"
       },
       "data": [
        {
         "domain": {
          "x": [
           0,
           1
          ],
          "y": [
           0,
           1
          ]
         },
         "hovertemplate": "rating=%{label}<br>nb_livre=%{value}<extra></extra>",
         "labels": [
          1,
          2,
          3,
          4,
          5
         ],
         "legendgroup": "",
         "name": "",
         "showlegend": true,
         "type": "pie",
         "values": [
          226,
          196,
          203,
          179,
          196
         ]
        }
       ],
       "layout": {
        "legend": {
         "tracegroupgap": 0
        },
        "margin": {
         "t": 60
        },
        "template": {
         "data": {
          "bar": [
           {
            "error_x": {
             "color": "#2a3f5f"
            },
            "error_y": {
             "color": "#2a3f5f"
            },
            "marker": {
             "line": {
              "color": "#E5ECF6",
              "width": 0.5
             },
             "pattern": {
              "fillmode": "overlay",
              "size": 10,
              "solidity": 0.2
             }
            },
            "type": "bar"
           }
          ],
          "barpolar": [
           {
            "marker": {
             "line": {
              "color": "#E5ECF6",
              "width": 0.5
             },
             "pattern": {
              "fillmode": "overlay",
              "size": 10,
              "solidity": 0.2
             }
            },
            "type": "barpolar"
           }
          ],
          "carpet": [
           {
            "aaxis": {
             "endlinecolor": "#2a3f5f",
             "gridcolor": "white",
             "linecolor": "white",
             "minorgridcolor": "white",
             "startlinecolor": "#2a3f5f"
            },
            "baxis": {
             "endlinecolor": "#2a3f5f",
             "gridcolor": "white",
             "linecolor": "white",
             "minorgridcolor": "white",
             "startlinecolor": "#2a3f5f"
            },
            "type": "carpet"
           }
          ],
          "choropleth": [
           {
            "colorbar": {
             "outlinewidth": 0,
             "ticks": ""
            },
            "type": "choropleth"
           }
          ],
          "contour": [
           {
            "colorbar": {
             "outlinewidth": 0,
             "ticks": ""
            },
            "colorscale": [
             [
              0,
              "#0d0887"
             ],
             [
              0.1111111111111111,
              "#46039f"
             ],
             [
              0.2222222222222222,
              "#7201a8"
             ],
             [
              0.3333333333333333,
              "#9c179e"
             ],
             [
              0.4444444444444444,
              "#bd3786"
             ],
             [
              0.5555555555555556,
              "#d8576b"
             ],
             [
              0.6666666666666666,
              "#ed7953"
             ],
             [
              0.7777777777777778,
              "#fb9f3a"
             ],
             [
              0.8888888888888888,
              "#fdca26"
             ],
             [
              1,
              "#f0f921"
             ]
            ],
            "type": "contour"
           }
          ],
          "contourcarpet": [
           {
            "colorbar": {
             "outlinewidth": 0,
             "ticks": ""
            },
            "type": "contourcarpet"
           }
          ],
          "heatmap": [
           {
            "colorbar": {
             "outlinewidth": 0,
             "ticks": ""
            },
            "colorscale": [
             [
              0,
              "#0d0887"
             ],
             [
              0.1111111111111111,
              "#46039f"
             ],
             [
              0.2222222222222222,
              "#7201a8"
             ],
             [
              0.3333333333333333,
              "#9c179e"
             ],
             [
              0.4444444444444444,
              "#bd3786"
             ],
             [
              0.5555555555555556,
              "#d8576b"
             ],
             [
              0.6666666666666666,
              "#ed7953"
             ],
             [
              0.7777777777777778,
              "#fb9f3a"
             ],
             [
              0.8888888888888888,
              "#fdca26"
             ],
             [
              1,
              "#f0f921"
             ]
            ],
            "type": "heatmap"
           }
          ],
          "heatmapgl": [
           {
            "colorbar": {
             "outlinewidth": 0,
             "ticks": ""
            },
            "colorscale": [
             [
              0,
              "#0d0887"
             ],
             [
              0.1111111111111111,
              "#46039f"
             ],
             [
              0.2222222222222222,
              "#7201a8"
             ],
             [
              0.3333333333333333,
              "#9c179e"
             ],
             [
              0.4444444444444444,
              "#bd3786"
             ],
             [
              0.5555555555555556,
              "#d8576b"
             ],
             [
              0.6666666666666666,
              "#ed7953"
             ],
             [
              0.7777777777777778,
              "#fb9f3a"
             ],
             [
              0.8888888888888888,
              "#fdca26"
             ],
             [
              1,
              "#f0f921"
             ]
            ],
            "type": "heatmapgl"
           }
          ],
          "histogram": [
           {
            "marker": {
             "pattern": {
              "fillmode": "overlay",
              "size": 10,
              "solidity": 0.2
             }
            },
            "type": "histogram"
           }
          ],
          "histogram2d": [
           {
            "colorbar": {
             "outlinewidth": 0,
             "ticks": ""
            },
            "colorscale": [
             [
              0,
              "#0d0887"
             ],
             [
              0.1111111111111111,
              "#46039f"
             ],
             [
              0.2222222222222222,
              "#7201a8"
             ],
             [
              0.3333333333333333,
              "#9c179e"
             ],
             [
              0.4444444444444444,
              "#bd3786"
             ],
             [
              0.5555555555555556,
              "#d8576b"
             ],
             [
              0.6666666666666666,
              "#ed7953"
             ],
             [
              0.7777777777777778,
              "#fb9f3a"
             ],
             [
              0.8888888888888888,
              "#fdca26"
             ],
             [
              1,
              "#f0f921"
             ]
            ],
            "type": "histogram2d"
           }
          ],
          "histogram2dcontour": [
           {
            "colorbar": {
             "outlinewidth": 0,
             "ticks": ""
            },
            "colorscale": [
             [
              0,
              "#0d0887"
             ],
             [
              0.1111111111111111,
              "#46039f"
             ],
             [
              0.2222222222222222,
              "#7201a8"
             ],
             [
              0.3333333333333333,
              "#9c179e"
             ],
             [
              0.4444444444444444,
              "#bd3786"
             ],
             [
              0.5555555555555556,
              "#d8576b"
             ],
             [
              0.6666666666666666,
              "#ed7953"
             ],
             [
              0.7777777777777778,
              "#fb9f3a"
             ],
             [
              0.8888888888888888,
              "#fdca26"
             ],
             [
              1,
              "#f0f921"
             ]
            ],
            "type": "histogram2dcontour"
           }
          ],
          "mesh3d": [
           {
            "colorbar": {
             "outlinewidth": 0,
             "ticks": ""
            },
            "type": "mesh3d"
           }
          ],
          "parcoords": [
           {
            "line": {
             "colorbar": {
              "outlinewidth": 0,
              "ticks": ""
             }
            },
            "type": "parcoords"
           }
          ],
          "pie": [
           {
            "automargin": true,
            "type": "pie"
           }
          ],
          "scatter": [
           {
            "fillpattern": {
             "fillmode": "overlay",
             "size": 10,
             "solidity": 0.2
            },
            "type": "scatter"
           }
          ],
          "scatter3d": [
           {
            "line": {
             "colorbar": {
              "outlinewidth": 0,
              "ticks": ""
             }
            },
            "marker": {
             "colorbar": {
              "outlinewidth": 0,
              "ticks": ""
             }
            },
            "type": "scatter3d"
           }
          ],
          "scattercarpet": [
           {
            "marker": {
             "colorbar": {
              "outlinewidth": 0,
              "ticks": ""
             }
            },
            "type": "scattercarpet"
           }
          ],
          "scattergeo": [
           {
            "marker": {
             "colorbar": {
              "outlinewidth": 0,
              "ticks": ""
             }
            },
            "type": "scattergeo"
           }
          ],
          "scattergl": [
           {
            "marker": {
             "colorbar": {
              "outlinewidth": 0,
              "ticks": ""
             }
            },
            "type": "scattergl"
           }
          ],
          "scattermapbox": [
           {
            "marker": {
             "colorbar": {
              "outlinewidth": 0,
              "ticks": ""
             }
            },
            "type": "scattermapbox"
           }
          ],
          "scatterpolar": [
           {
            "marker": {
             "colorbar": {
              "outlinewidth": 0,
              "ticks": ""
             }
            },
            "type": "scatterpolar"
           }
          ],
          "scatterpolargl": [
           {
            "marker": {
             "colorbar": {
              "outlinewidth": 0,
              "ticks": ""
             }
            },
            "type": "scatterpolargl"
           }
          ],
          "scatterternary": [
           {
            "marker": {
             "colorbar": {
              "outlinewidth": 0,
              "ticks": ""
             }
            },
            "type": "scatterternary"
           }
          ],
          "surface": [
           {
            "colorbar": {
             "outlinewidth": 0,
             "ticks": ""
            },
            "colorscale": [
             [
              0,
              "#0d0887"
             ],
             [
              0.1111111111111111,
              "#46039f"
             ],
             [
              0.2222222222222222,
              "#7201a8"
             ],
             [
              0.3333333333333333,
              "#9c179e"
             ],
             [
              0.4444444444444444,
              "#bd3786"
             ],
             [
              0.5555555555555556,
              "#d8576b"
             ],
             [
              0.6666666666666666,
              "#ed7953"
             ],
             [
              0.7777777777777778,
              "#fb9f3a"
             ],
             [
              0.8888888888888888,
              "#fdca26"
             ],
             [
              1,
              "#f0f921"
             ]
            ],
            "type": "surface"
           }
          ],
          "table": [
           {
            "cells": {
             "fill": {
              "color": "#EBF0F8"
             },
             "line": {
              "color": "white"
             }
            },
            "header": {
             "fill": {
              "color": "#C8D4E3"
             },
             "line": {
              "color": "white"
             }
            },
            "type": "table"
           }
          ]
         },
         "layout": {
          "annotationdefaults": {
           "arrowcolor": "#2a3f5f",
           "arrowhead": 0,
           "arrowwidth": 1
          },
          "autotypenumbers": "strict",
          "coloraxis": {
           "colorbar": {
            "outlinewidth": 0,
            "ticks": ""
           }
          },
          "colorscale": {
           "diverging": [
            [
             0,
             "#8e0152"
            ],
            [
             0.1,
             "#c51b7d"
            ],
            [
             0.2,
             "#de77ae"
            ],
            [
             0.3,
             "#f1b6da"
            ],
            [
             0.4,
             "#fde0ef"
            ],
            [
             0.5,
             "#f7f7f7"
            ],
            [
             0.6,
             "#e6f5d0"
            ],
            [
             0.7,
             "#b8e186"
            ],
            [
             0.8,
             "#7fbc41"
            ],
            [
             0.9,
             "#4d9221"
            ],
            [
             1,
             "#276419"
            ]
           ],
           "sequential": [
            [
             0,
             "#0d0887"
            ],
            [
             0.1111111111111111,
             "#46039f"
            ],
            [
             0.2222222222222222,
             "#7201a8"
            ],
            [
             0.3333333333333333,
             "#9c179e"
            ],
            [
             0.4444444444444444,
             "#bd3786"
            ],
            [
             0.5555555555555556,
             "#d8576b"
            ],
            [
             0.6666666666666666,
             "#ed7953"
            ],
            [
             0.7777777777777778,
             "#fb9f3a"
            ],
            [
             0.8888888888888888,
             "#fdca26"
            ],
            [
             1,
             "#f0f921"
            ]
           ],
           "sequentialminus": [
            [
             0,
             "#0d0887"
            ],
            [
             0.1111111111111111,
             "#46039f"
            ],
            [
             0.2222222222222222,
             "#7201a8"
            ],
            [
             0.3333333333333333,
             "#9c179e"
            ],
            [
             0.4444444444444444,
             "#bd3786"
            ],
            [
             0.5555555555555556,
             "#d8576b"
            ],
            [
             0.6666666666666666,
             "#ed7953"
            ],
            [
             0.7777777777777778,
             "#fb9f3a"
            ],
            [
             0.8888888888888888,
             "#fdca26"
            ],
            [
             1,
             "#f0f921"
            ]
           ]
          },
          "colorway": [
           "#636efa",
           "#EF553B",
           "#00cc96",
           "#ab63fa",
           "#FFA15A",
           "#19d3f3",
           "#FF6692",
           "#B6E880",
           "#FF97FF",
           "#FECB52"
          ],
          "font": {
           "color": "#2a3f5f"
          },
          "geo": {
           "bgcolor": "white",
           "lakecolor": "white",
           "landcolor": "#E5ECF6",
           "showlakes": true,
           "showland": true,
           "subunitcolor": "white"
          },
          "hoverlabel": {
           "align": "left"
          },
          "hovermode": "closest",
          "mapbox": {
           "style": "light"
          },
          "paper_bgcolor": "white",
          "plot_bgcolor": "#E5ECF6",
          "polar": {
           "angularaxis": {
            "gridcolor": "white",
            "linecolor": "white",
            "ticks": ""
           },
           "bgcolor": "#E5ECF6",
           "radialaxis": {
            "gridcolor": "white",
            "linecolor": "white",
            "ticks": ""
           }
          },
          "scene": {
           "xaxis": {
            "backgroundcolor": "#E5ECF6",
            "gridcolor": "white",
            "gridwidth": 2,
            "linecolor": "white",
            "showbackground": true,
            "ticks": "",
            "zerolinecolor": "white"
           },
           "yaxis": {
            "backgroundcolor": "#E5ECF6",
            "gridcolor": "white",
            "gridwidth": 2,
            "linecolor": "white",
            "showbackground": true,
            "ticks": "",
            "zerolinecolor": "white"
           },
           "zaxis": {
            "backgroundcolor": "#E5ECF6",
            "gridcolor": "white",
            "gridwidth": 2,
            "linecolor": "white",
            "showbackground": true,
            "ticks": "",
            "zerolinecolor": "white"
           }
          },
          "shapedefaults": {
           "line": {
            "color": "#2a3f5f"
           }
          },
          "ternary": {
           "aaxis": {
            "gridcolor": "white",
            "linecolor": "white",
            "ticks": ""
           },
           "baxis": {
            "gridcolor": "white",
            "linecolor": "white",
            "ticks": ""
           },
           "bgcolor": "#E5ECF6",
           "caxis": {
            "gridcolor": "white",
            "linecolor": "white",
            "ticks": ""
           }
          },
          "title": {
           "x": 0.05
          },
          "xaxis": {
           "automargin": true,
           "gridcolor": "white",
           "linecolor": "white",
           "ticks": "",
           "title": {
            "standoff": 15
           },
           "zerolinecolor": "white",
           "zerolinewidth": 2
          },
          "yaxis": {
           "automargin": true,
           "gridcolor": "white",
           "linecolor": "white",
           "ticks": "",
           "title": {
            "standoff": 15
           },
           "zerolinecolor": "white",
           "zerolinewidth": 2
          }
         }
        }
       }
      }
     },
     "metadata": {},
     "output_type": "display_data"
    }
   ],
   "source": [
    "query_rate = \"\"\"\n",
    "SELECT COUNT(*) AS nb_livre, rating \n",
    "FROM livre\n",
    "GROUP BY rating\n",
    "ORDER BY rating\n",
    "\"\"\"\n",
    "\n",
    "df_rate = pd.read_sql(query_rate, conn)\n",
    "px.pie(df_rate, values='nb_livre', names='rating')"
   ]
  },
  {
   "cell_type": "code",
   "execution_count": null,
   "id": "7180fd1d",
   "metadata": {},
   "outputs": [
    {
     "data": {
      "text/plain": [
       "'../../media/cache/9e/10/9e106f81f65b293e488718a4f54a6a3f.jpg'"
      ]
     },
     "execution_count": 24,
     "metadata": {},
     "output_type": "execute_result"
    }
   ],
   "source": [
    "df_final['image'][0]"
   ]
  }
 ],
 "metadata": {
  "kernelspec": {
   "display_name": "Python 3 (ipykernel)",
   "language": "python",
   "name": "python3"
  },
  "language_info": {
   "codemirror_mode": {
    "name": "ipython",
    "version": 3
   },
   "file_extension": ".py",
   "mimetype": "text/x-python",
   "name": "python",
   "nbconvert_exporter": "python",
   "pygments_lexer": "ipython3",
   "version": "3.12.4"
  },
  "toc": {
   "base_numbering": 1,
   "nav_menu": {},
   "number_sections": true,
   "sideBar": true,
   "skip_h1_title": false,
   "title_cell": "Table of Contents",
   "title_sidebar": "Contents",
   "toc_cell": false,
   "toc_position": {},
   "toc_section_display": true,
   "toc_window_display": false
  }
 },
 "nbformat": 4,
 "nbformat_minor": 5
}
